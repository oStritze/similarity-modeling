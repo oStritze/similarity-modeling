{
 "cells": [
  {
   "cell_type": "markdown",
   "metadata": {},
   "source": [
    "# Finding Kermit\n",
    "Training: Episode 02-01-01  \n",
    "Test: Episode 02-04-04  \n",
    "Validation: Episode 03-04-03  "
   ]
  },
  {
   "cell_type": "markdown",
   "metadata": {},
   "source": [
    "## Video"
   ]
  },
  {
   "cell_type": "code",
   "execution_count": 34,
   "metadata": {},
   "outputs": [],
   "source": [
    "# GET PREDICTIONS"
   ]
  },
  {
   "cell_type": "markdown",
   "metadata": {},
   "source": [
    "## Audio"
   ]
  },
  {
   "cell_type": "code",
   "execution_count": 164,
   "metadata": {},
   "outputs": [],
   "source": [
    "# DATA\n",
    "train_data = pd.read_csv('../data/ep1_flat_mfcc.csv', sep=',', dtype=np.float64)\n",
    "train_target = pd.read_csv('../data/gt/gt_02_01_01.csv', sep=',').head(len(train_data)).kermit_audio\n",
    "test_data = pd.read_csv('../data/ep2_flat_mfcc.csv', sep=',', dtype=np.float64)\n",
    "test_target = pd.read_csv('../data/gt/gt_02_04_04.csv.csv', na_values=[None, ' ', '']).fillna(0).head(len(test_data)).kermit_audio"
   ]
  },
  {
   "cell_type": "code",
   "execution_count": 41,
   "metadata": {},
   "outputs": [
    {
     "data": {
      "text/plain": [
       "Pipeline(steps=[('stackingestimator',\n",
       "                 StackingEstimator(estimator=BernoulliNB(alpha=0.001,\n",
       "                                                         fit_prior=False))),\n",
       "                ('randomforestclassifier',\n",
       "                 RandomForestClassifier(max_features=0.2, min_samples_leaf=8,\n",
       "                                        min_samples_split=4,\n",
       "                                        random_state=42))])"
      ]
     },
     "execution_count": 41,
     "metadata": {},
     "output_type": "execute_result"
    }
   ],
   "source": [
    "# MODEL\n",
    "from sklearn.ensemble import RandomForestClassifier\n",
    "from sklearn.naive_bayes import BernoulliNB\n",
    "from sklearn.pipeline import make_pipeline, make_union\n",
    "from tpot.builtins import StackingEstimator\n",
    "from tpot.export_utils import set_param_recursive\n",
    "\n",
    "# Pipeline as exported from TPOT\n",
    "pipeline = make_pipeline(\n",
    "    StackingEstimator(estimator=BernoulliNB(alpha=0.001, fit_prior=False)),\n",
    "    RandomForestClassifier(bootstrap=True, criterion=\"gini\", max_features=0.2, min_samples_leaf=8, min_samples_split=4, n_estimators=100)\n",
    ")\n",
    "# Fix random state for all the steps in exported pipeline\n",
    "set_param_recursive(pipeline.steps, 'random_state', 42)\n",
    "\n",
    "pipeline.fit(train_data, train_target)"
   ]
  },
  {
   "cell_type": "code",
   "execution_count": 168,
   "metadata": {},
   "outputs": [
    {
     "name": "stdout",
     "output_type": "stream",
     "text": [
      "1.0\n",
      "0.8235294117647058\n"
     ]
    }
   ],
   "source": [
    "# EVALUATE AUDIO PREDICTIONS ALONE\n",
    "from sklearn.metrics import precision_score\n",
    "\n",
    "# predict training data\n",
    "print(precision_score(train_target, pipeline.predict(train_data)))\n",
    "\n",
    "# predict test data\n",
    "print(precision_score(test_target, pipeline.predict(test_data)))"
   ]
  },
  {
   "cell_type": "markdown",
   "metadata": {},
   "source": [
    "# Combined"
   ]
  },
  {
   "cell_type": "code",
   "execution_count": 166,
   "metadata": {},
   "outputs": [],
   "source": [
    "# Load truth for episode 3\n",
    "val_target = pd.read_csv('../data/gt/gt_03_04_03.csv', sep=',')\n",
    "\n",
    "# Video predictions\n",
    "video_predictions = np.round(np.random.random((len(train_target),)))\n",
    "\n",
    "# Audio predictions\n",
    "val_audio = pd.read_csv('../data/ep3_flat_mfcc.csv', sep=',', dtype=np.float64)\n",
    "audio_predictions = pipeline.predict(val_audio)"
   ]
  },
  {
   "cell_type": "code",
   "execution_count": 173,
   "metadata": {},
   "outputs": [],
   "source": [
    "# adjust lengths\n",
    "min_len = min([len(val_target), len(video_predictions), len(audio_predictions)])\n",
    "val_target = val_target.head(min_len)\n",
    "video_predictions = video_predictions[:min_len]\n",
    "audio_predictions = audio_predictions[:min_len]"
   ]
  },
  {
   "cell_type": "code",
   "execution_count": 178,
   "metadata": {},
   "outputs": [
    {
     "data": {
      "text/html": [
       "<div>\n",
       "<style scoped>\n",
       "    .dataframe tbody tr th:only-of-type {\n",
       "        vertical-align: middle;\n",
       "    }\n",
       "\n",
       "    .dataframe tbody tr th {\n",
       "        vertical-align: top;\n",
       "    }\n",
       "\n",
       "    .dataframe thead th {\n",
       "        text-align: right;\n",
       "    }\n",
       "</style>\n",
       "<table border=\"1\" class=\"dataframe\">\n",
       "  <thead>\n",
       "    <tr style=\"text-align: right;\">\n",
       "      <th></th>\n",
       "      <th>Min</th>\n",
       "      <th>Sec</th>\n",
       "      <th>kermit_video</th>\n",
       "      <th>kermit_audio</th>\n",
       "      <th>ws_video</th>\n",
       "      <th>ws_audio</th>\n",
       "    </tr>\n",
       "  </thead>\n",
       "  <tbody>\n",
       "    <tr>\n",
       "      <th>0</th>\n",
       "      <td>0</td>\n",
       "      <td>0</td>\n",
       "      <td>0</td>\n",
       "      <td>0</td>\n",
       "      <td>0</td>\n",
       "      <td>0</td>\n",
       "    </tr>\n",
       "    <tr>\n",
       "      <th>1</th>\n",
       "      <td>0</td>\n",
       "      <td>1</td>\n",
       "      <td>0</td>\n",
       "      <td>0</td>\n",
       "      <td>0</td>\n",
       "      <td>0</td>\n",
       "    </tr>\n",
       "    <tr>\n",
       "      <th>2</th>\n",
       "      <td>0</td>\n",
       "      <td>2</td>\n",
       "      <td>0</td>\n",
       "      <td>0</td>\n",
       "      <td>0</td>\n",
       "      <td>0</td>\n",
       "    </tr>\n",
       "    <tr>\n",
       "      <th>3</th>\n",
       "      <td>0</td>\n",
       "      <td>3</td>\n",
       "      <td>0</td>\n",
       "      <td>0</td>\n",
       "      <td>0</td>\n",
       "      <td>0</td>\n",
       "    </tr>\n",
       "    <tr>\n",
       "      <th>4</th>\n",
       "      <td>0</td>\n",
       "      <td>4</td>\n",
       "      <td>0</td>\n",
       "      <td>0</td>\n",
       "      <td>0</td>\n",
       "      <td>0</td>\n",
       "    </tr>\n",
       "    <tr>\n",
       "      <th>...</th>\n",
       "      <td>...</td>\n",
       "      <td>...</td>\n",
       "      <td>...</td>\n",
       "      <td>...</td>\n",
       "      <td>...</td>\n",
       "      <td>...</td>\n",
       "    </tr>\n",
       "    <tr>\n",
       "      <th>1533</th>\n",
       "      <td>25</td>\n",
       "      <td>33</td>\n",
       "      <td>0</td>\n",
       "      <td>0</td>\n",
       "      <td>0</td>\n",
       "      <td>0</td>\n",
       "    </tr>\n",
       "    <tr>\n",
       "      <th>1534</th>\n",
       "      <td>25</td>\n",
       "      <td>34</td>\n",
       "      <td>0</td>\n",
       "      <td>0</td>\n",
       "      <td>0</td>\n",
       "      <td>0</td>\n",
       "    </tr>\n",
       "    <tr>\n",
       "      <th>1535</th>\n",
       "      <td>25</td>\n",
       "      <td>35</td>\n",
       "      <td>0</td>\n",
       "      <td>0</td>\n",
       "      <td>0</td>\n",
       "      <td>0</td>\n",
       "    </tr>\n",
       "    <tr>\n",
       "      <th>1536</th>\n",
       "      <td>25</td>\n",
       "      <td>36</td>\n",
       "      <td>0</td>\n",
       "      <td>0</td>\n",
       "      <td>0</td>\n",
       "      <td>0</td>\n",
       "    </tr>\n",
       "    <tr>\n",
       "      <th>1537</th>\n",
       "      <td>25</td>\n",
       "      <td>37</td>\n",
       "      <td>0</td>\n",
       "      <td>0</td>\n",
       "      <td>0</td>\n",
       "      <td>0</td>\n",
       "    </tr>\n",
       "  </tbody>\n",
       "</table>\n",
       "<p>1538 rows × 6 columns</p>\n",
       "</div>"
      ],
      "text/plain": [
       "      Min  Sec  kermit_video  kermit_audio  ws_video  ws_audio\n",
       "0       0    0             0             0         0         0\n",
       "1       0    1             0             0         0         0\n",
       "2       0    2             0             0         0         0\n",
       "3       0    3             0             0         0         0\n",
       "4       0    4             0             0         0         0\n",
       "...   ...  ...           ...           ...       ...       ...\n",
       "1533   25   33             0             0         0         0\n",
       "1534   25   34             0             0         0         0\n",
       "1535   25   35             0             0         0         0\n",
       "1536   25   36             0             0         0         0\n",
       "1537   25   37             0             0         0         0\n",
       "\n",
       "[1538 rows x 6 columns]"
      ]
     },
     "execution_count": 178,
     "metadata": {},
     "output_type": "execute_result"
    }
   ],
   "source": [
    "val_target"
   ]
  },
  {
   "cell_type": "code",
   "execution_count": 204,
   "metadata": {},
   "outputs": [],
   "source": [
    "# combine truths\n",
    "or_truth = [val_target.kermit_video[i] or val_target.kermit_audio[i] for i in range(min_len)]\n",
    "and_truth = [val_target.kermit_video[i] and val_target.kermit_audio[i] for i in range(min_len)]\n",
    "\n",
    "# combine predictions\n",
    "or_predictions = [video_predictions[i] or audio_predictions[i] for i in range(min_len)]\n",
    "and_predictions = [video_predictions[i] and audio_predictions[i] for i in range(min_len)]"
   ]
  },
  {
   "cell_type": "code",
   "execution_count": 212,
   "metadata": {},
   "outputs": [
    {
     "data": {
      "text/plain": [
       "0.4553686934023286"
      ]
     },
     "execution_count": 212,
     "metadata": {},
     "output_type": "execute_result"
    }
   ],
   "source": [
    "# OR truth\n",
    "precision_score(or_truth, or_predictions)"
   ]
  },
  {
   "cell_type": "code",
   "execution_count": 211,
   "metadata": {},
   "outputs": [
    {
     "data": {
      "text/plain": [
       "1.0"
      ]
     },
     "execution_count": 211,
     "metadata": {},
     "output_type": "execute_result"
    }
   ],
   "source": [
    "# AND truth\n",
    "precision_score(and_truth, and_predictions)"
   ]
  }
 ],
 "metadata": {
  "kernelspec": {
   "display_name": "Python 3",
   "language": "python",
   "name": "python3"
  },
  "language_info": {
   "codemirror_mode": {
    "name": "ipython",
    "version": 3
   },
   "file_extension": ".py",
   "mimetype": "text/x-python",
   "name": "python",
   "nbconvert_exporter": "python",
   "pygments_lexer": "ipython3",
   "version": "3.8.5"
  }
 },
 "nbformat": 4,
 "nbformat_minor": 4
}
