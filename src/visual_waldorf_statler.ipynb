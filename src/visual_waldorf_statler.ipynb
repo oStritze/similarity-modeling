{
 "cells": [
  {
   "cell_type": "code",
   "execution_count": 25,
   "metadata": {},
   "outputs": [
    {
     "name": "stderr",
     "output_type": "stream",
     "text": [
      "/usr/lib/python3/dist-packages/IPython/core/interactiveshell.py:3062: DtypeWarning: Columns (787) have mixed types.Specify dtype option on import or set low_memory=False.\n",
      "  has_raised = await self.run_ast_nodes(code_ast.body, cell_name,\n"
     ]
    }
   ],
   "source": [
    "import pandas as pd\n",
    "\n",
    "# LOAD full visual features\n",
    "ep1 = pd.read_csv('../data/ep1_visual_full.csv')\n",
    "ep2 = pd.read_csv('../data/ep2_visual_full.csv')\n",
    "ep3 = pd.read_csv('../data/ep3_visual_full.csv')"
   ]
  },
  {
   "cell_type": "code",
   "execution_count": 35,
   "metadata": {},
   "outputs": [],
   "source": [
    "from sklearn.model_selection import train_test_split\n",
    "\n",
    "# MERGE\n",
    "DATA = pd.concat([ep1, ep2, ep3])\n",
    "X = DATA.filter(regex=(\"_hist\"))\n",
    "Y = DATA.ws_video\n",
    "\n",
    "# SPLIT\n",
    "x_train, x_test, y_train, y_test = train_test_split(X, Y, test_size=0.20, random_state=42, stratify=Y)"
   ]
  },
  {
   "cell_type": "code",
   "execution_count": 37,
   "metadata": {},
   "outputs": [
    {
     "name": "stdout",
     "output_type": "stream",
     "text": [
      "Accuracy:   0.9988\n",
      "Precision:  0.9486\n",
      "Recall:     0.9227\n",
      "F1:         0.9355\n"
     ]
    },
    {
     "data": {
      "image/png": "[encoded data removed]",
      "text/plain": [
       "<Figure size 432x288 with 1 Axes>"
      ]
     },
     "metadata": {
      "needs_background": "light"
     },
     "output_type": "display_data"
    },
    {
     "name": "stdout",
     "output_type": "stream",
     "text": [
      "CPU times: user 52.9 s, sys: 54.3 ms, total: 52.9 s\n",
      "Wall time: 53.1 s\n"
     ]
    }
   ],
   "source": [
    "%%time\n",
    "import matplotlib.pyplot as plt\n",
    "from sklearn.ensemble import ExtraTreesClassifier\n",
    "from sklearn.metrics import accuracy_score, precision_score, recall_score, f1_score, plot_roc_curve\n",
    "\n",
    "# use tpot classifier\n",
    "pipe = ExtraTreesClassifier(bootstrap=True, criterion=\"gini\", max_features=0.25, min_samples_leaf=8, min_samples_split=11, n_estimators=100)\n",
    "if hasattr(pipe, 'random_state'):\n",
    "    setattr(pipe, 'random_state', 42)\n",
    "\n",
    "pipe.fit(x_train, y_train)\n",
    "\n",
    "preds = pipe.predict(x_test)\n",
    "print(\"Accuracy:  \", round(accuracy_score(y_test,preds),4) )\n",
    "print(\"Precision: \", round(precision_score(y_test,preds),4) )\n",
    "print(\"Recall:    \", round(recall_score(y_test,preds),4) )\n",
    "print(\"F1:        \", round(f1_score(y_test,preds),4) )\n",
    "\n",
    "plot_roc_curve(pipe, x_test, y_test)\n",
    "plt.title(\"ROC on Val\")\n",
    "plt.show()"
   ]
  }
 ],
 "metadata": {
  "kernelspec": {
   "display_name": "Python 3",
   "language": "python",
   "name": "python3"
  },
  "language_info": {
   "codemirror_mode": {
    "name": "ipython",
    "version": 3
   },
   "file_extension": ".py",
   "mimetype": "text/x-python",
   "name": "python",
   "nbconvert_exporter": "python",
   "pygments_lexer": "ipython3",
   "version": "3.8.5"
  }
 },
 "nbformat": 4,
 "nbformat_minor": 4
}
